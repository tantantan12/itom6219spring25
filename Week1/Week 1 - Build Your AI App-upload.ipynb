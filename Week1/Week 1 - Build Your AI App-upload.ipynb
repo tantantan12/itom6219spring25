{
 "cells": [
  {
   "cell_type": "markdown",
   "metadata": {},
   "source": []
  },
  {
   "cell_type": "markdown",
   "metadata": {},
   "source": [
    "### Example 1 - Completion"
   ]
  },
  {
   "cell_type": "code",
   "execution_count": null,
   "metadata": {},
   "outputs": [
    {
     "name": "stdout",
     "output_type": "stream",
     "text": [
      "Who's there?\n",
      "\n",
      "Boo\n"
     ]
    }
   ],
   "source": [
    "from openai import OpenAI\n",
    "client = OpenAI(api_key=os.getenv(\"OPENAI_API_KEY\"))\n",
    "\n",
    "response=client.completions.create(\n",
    "  model=\"gpt-3.5-turbo-instruct\",\n",
    "  prompt=\"It is raining today, and I need to bring my \",\n",
    "  max_tokens=7,\n",
    "  temperature=0\n",
    ")\n",
    "\n",
    "print(response.choices[0].text.strip())  # Extracts and prints the generated text\n"
   ]
  },
  {
   "cell_type": "markdown",
   "metadata": {},
   "source": [
    "### Example 2 - Chat"
   ]
  },
  {
   "cell_type": "code",
   "execution_count": 14,
   "metadata": {},
   "outputs": [
    {
     "name": "stdout",
     "output_type": "stream",
     "text": [
      "ChatCompletionMessage(content='Jane who?', refusal=None, role='assistant', audio=None, function_call=None, tool_calls=None)\n"
     ]
    }
   ],
   "source": [
    "from openai import OpenAI\n",
    "client = OpenAI(api_key=os.getenv(\"OPENAI_API_KEY\"))\n",
    "\n",
    "completion = client.chat.completions.create(\n",
    "  model=\"gpt-4o\",\n",
    "  messages=[\n",
    "    {\"role\": \"developer\", \"content\": \"You are a helpful assistant.\"},\n",
    "    {\"role\": \"user\", \"content\": \"Knock, knock!\"},\n",
    "    {\"role\": \"developer\", \"content\": \"I am Jane.\"},\n",
    "  ]\n",
    ")\n",
    "\n",
    "print(completion.choices[0].message)\n"
   ]
  },
  {
   "cell_type": "markdown",
   "metadata": {},
   "source": [
    "### Function 1 - Generate Promotional Copy"
   ]
  },
  {
   "cell_type": "code",
   "execution_count": null,
   "metadata": {},
   "outputs": [
    {
     "name": "stdout",
     "output_type": "stream",
     "text": [
      "Generated Promotional Copy:\n",
      " \"Introducing the EcoPure Hydration Bottle, the perfect companion for the environmentally conscious consumer. This sustainable, vacuum-insulated water bottle is designed to keep your drinks cold for 48 hours and hot for 24 hours. Say goodbye to disposable plastic bottles and hello to a greener planet with our EcoPure bottle. Keep your drinks cold and your conscience clear with EcoPure.\"\n"
     ]
    }
   ],
   "source": [
    "import os\n",
    "import openai\n",
    "from dotenv import load_dotenv\n",
    "\n",
    "## Load API keys from environment variables\n",
    "load_dotenv()\n",
    "openai_client = openai.OpenAI(api_key=os.getenv(\"OPENAI_API_KEY\"))  # Corrected API usage\n",
    "\n",
    "\n",
    "\n",
    "def generate_promo_copy(product_name, product_desc, target_market):\n",
    "    \"\"\"\n",
    "    Generates advertising copy using OpenAI GPT API.\n",
    "\n",
    "    Parameters:\n",
    "    - product_name (str): The name of the product.\n",
    "    - product_desc (str): Description of the product.\n",
    "    - target_market (str): The target audience for the product.\n",
    "\n",
    "    Returns:\n",
    "    - str: AI-generated marketing copy.\n",
    "    \"\"\"\n",
    "\n",
    "    # OpenAI API request with structured prompt\n",
    "    prompt = f\"\"\"\n",
    "    Use the product name, description, and target market to create compelling advertising copy.\n",
    "\n",
    "    Product Name: {product_name}\n",
    "    Product Description: {product_desc}\n",
    "    Target Market: {target_market}\n",
    "\n",
    "    Advertising Copy:\n",
    "    \"\"\"\n",
    "\n",
    "    response = openai_client.completions.create(  # Updated OpenAI API call\n",
    "        model=\"gpt-3.5-turbo-instruct\",\n",
    "        prompt=prompt,\n",
    "        max_tokens=100,\n",
    "        temperature=0.7,\n",
    "        frequency_penalty=0.3,\n",
    "        presence_penalty=0\n",
    "    )\n",
    "\n",
    "    return response.choices[0].text.strip()  # Corrected response extraction"
   ]
  },
  {
   "cell_type": "markdown",
   "metadata": {},
   "source": [
    "#### Example"
   ]
  },
  {
   "cell_type": "code",
   "execution_count": null,
   "metadata": {},
   "outputs": [],
   "source": [
    "product_name = \"EcoPure Hydration Bottle\"\n",
    "product_desc = \"A sustainable, vacuum-insulated water bottle that keeps drinks cold for 48 hours and hot for 24 hours.\"\n",
    "target_market = \"Environmentally conscious consumers\"\n",
    "\n",
    "promo_copy = generate_promo_copy(product_name, product_desc, target_market)\n",
    "print(\"Generated Promotional Copy:\\n\", promo_copy)"
   ]
  },
  {
   "cell_type": "markdown",
   "metadata": {},
   "source": [
    "Parameters of the openai API\n",
    "| Parameter                     | Description                                              |\n",
    "|--------------------------------|----------------------------------------------------------|\n",
    "| `model=\"gpt-3.5-turbo-instruct\"` | Uses OpenAI’s instruction-following model.              |\n",
    "| `prompt=prompt`               | Passes the user-provided product details to guide the AI. |\n",
    "| `max_tokens=100`              | Limits the response length to 100 tokens.                |\n",
    "| `temperature=0.7`             | Increases variability and creativity.                    |\n",
    "| `frequency_penalty=0.3`       | Reduces repetitive outputs.                              |\n",
    "| `presence_penalty=0`          | Ensures responses remain on-topic.                       |\n"
   ]
  },
  {
   "cell_type": "markdown",
   "metadata": {},
   "source": [
    "### Function 2 - Sequential Process for Finding Competitors"
   ]
  },
  {
   "cell_type": "code",
   "execution_count": null,
   "metadata": {},
   "outputs": [
    {
     "name": "stdout",
     "output_type": "stream",
     "text": [
      "\n",
      "🔍 Refined Search Query: \"Eco-friendly vacuum-insulated water bottle for environmentally conscious consumers - keeps drinks cold for 48 hours and hot for 24 hours\"\n",
      "\n",
      "🔎 Raw Competitor Results (Top 3): [{'position': 1, 'title': 'Bambaw Insulated Stainless Steel Bottle 750 ml', 'product_link': 'https://www.google.com/shopping/product/6070634704895050602?gl=us', 'product_id': '6070634704895050602', 'serpapi_product_api': 'https://serpapi.com/search.json?engine=google_product&gl=us&google_domain=google.com&hl=en&product_id=6070634704895050602', 'immersive_product_page_token': 'eyJlaSI6IkQ1TEVaNlBtQ0ktWndia1A3X1hsaUFNIiwicHJvZHVjdGlkIjoiIiwiY2F0YWxvZ2lkIjoiNjA3MDYzNDcwNDg5NTA1MDYwMiIsImhlYWRsaW5lT2ZmZXJEb2NpZCI6IjE2Nzk0MDgxMDExMDM1MDMxNjgwIiwiaW1hZ2VEb2NpZCI6IjEyODI5MjkwMzY2MDIzOTYyOTIxIiwicmRzIjoiUFJPRF9WQVJfMzA1NDIzMDQ2MDkyNjE2ODUxM3xWQVJfMzA1NDIzMDQ2MDkyNjE2ODUxMyIsInF1ZXJ5IjoiJTIyRWNvLWZyaWVuZGx5K3ZhY3V1bS1pbnN1bGF0ZWQrd2F0ZXIrYm90dGxlK2ZvcitlbnZpcm9ubWVudGFsbHkrY29uc2Npb3VzK2NvbnN1bWVycystK2tlZXBzK2RyaW5rcytjb2xkK2Zvcis0OCtob3VycythbmQraG90K2ZvcisyNCtob3VycyUyMiIsImdwY2lkIjoiIiwibWlkIjoiIiwicHZ0IjoiaGciLCJ1dWxlIjpudWxsfQ==', 'serpapi_immersive_product_api': 'https://serpapi.com/search.json?engine=google_immersive_product&page_token=eyJlaSI6IkQ1TEVaNlBtQ0ktWndia1A3X1hsaUFNIiwicHJvZHVjdGlkIjoiIiwiY2F0YWxvZ2lkIjoiNjA3MDYzNDcwNDg5NTA1MDYwMiIsImhlYWRsaW5lT2ZmZXJEb2NpZCI6IjE2Nzk0MDgxMDExMDM1MDMxNjgwIiwiaW1hZ2VEb2NpZCI6IjEyODI5MjkwMzY2MDIzOTYyOTIxIiwicmRzIjoiUFJPRF9WQVJfMzA1NDIzMDQ2MDkyNjE2ODUxM3xWQVJfMzA1NDIzMDQ2MDkyNjE2ODUxMyIsInF1ZXJ5IjoiJTIyRWNvLWZyaWVuZGx5K3ZhY3V1bS1pbnN1bGF0ZWQrd2F0ZXIrYm90dGxlK2ZvcitlbnZpcm9ubWVudGFsbHkrY29uc2Npb3VzK2NvbnN1bWVycystK2tlZXBzK2RyaW5rcytjb2xkK2Zvcis0OCtob3VycythbmQraG90K2ZvcisyNCtob3VycyUyMiIsImdwY2lkIjoiIiwibWlkIjoiIiwicHZ0IjoiaGciLCJ1dWxlIjpudWxsfQ%3D%3D', 'source': 'Amazon.com - Seller', 'source_icon': 'https://serpapi.com/searches/67c4920d1e450b0d6d994273/images/d83986a9f02c73e832beb3fabcf31663f5c624472001630055ffb7623f7122d2.png', 'price': '$19.95', 'extracted_price': 19.95, 'old_price': '$26', 'extracted_old_price': 26, 'rating': 4.6, 'reviews': 25, 'thumbnail': 'https://serpapi.com/searches/67c4920d1e450b0d6d994273/images/d83986a9f02c73e832beb3fabcf316631a0dcca177d6430e8399741b1e34f468.webp', 'thumbnails': ['https://encrypted-tbn1.gstatic.com/shopping?q=tbn:ANd9GcR1bofGCEAENg2yJyTUrwnFzclmmURPXvnlTYUV9kfJyJW3iiJ-hW-j0C6ceU5RfNXPFseBXGc2LyLD9AB28AzYXzXLXRbbt5ewWDr-ZEOqpv5XHFgFWBddiA'], 'tag': '23% OFF', 'extensions': ['23% OFF']}, {'position': 2, 'title': 'FreeSip Water Bottle Owala Stainless Steel', 'product_link': 'https://www.google.com/shopping/product/4795218699473347052?gl=us', 'product_id': '4795218699473347052', 'serpapi_product_api': 'https://serpapi.com/search.json?engine=google_product&gl=us&google_domain=google.com&hl=en&product_id=4795218699473347052', 'immersive_product_page_token': 'eyJlaSI6IkQ1TEVaNlBtQ0ktWndia1A3X1hsaUFNIiwicHJvZHVjdGlkIjoiIiwiY2F0YWxvZ2lkIjoiNDc5NTIxODY5OTQ3MzM0NzA1MiIsImhlYWRsaW5lT2ZmZXJEb2NpZCI6IjYxNzkyNDU3Mjk3Mzc4NDMwMTciLCJpbWFnZURvY2lkIjoiMzE2MDc2MDIwMTc1MTcwNzU5NCIsInJkcyI6IlBDXzEyOTcyNjExMDg4ODI3MDMwMjQ1fFBST0RfUENfMTI5NzI2MTEwODg4MjcwMzAyNDUiLCJxdWVyeSI6IiUyMkVjby1mcmllbmRseSt2YWN1dW0taW5zdWxhdGVkK3dhdGVyK2JvdHRsZStmb3IrZW52aXJvbm1lbnRhbGx5K2NvbnNjaW91cytjb25zdW1lcnMrLStrZWVwcytkcmlua3MrY29sZCtmb3IrNDgraG91cnMrYW5kK2hvdCtmb3IrMjQraG91cnMlMjIiLCJncGNpZCI6IjEyOTcyNjExMDg4ODI3MDMwMjQ1IiwibWlkIjoiIiwicHZ0IjoiaGciLCJ1dWxlIjpudWxsfQ==', 'serpapi_immersive_product_api': 'https://serpapi.com/search.json?engine=google_immersive_product&page_token=eyJlaSI6IkQ1TEVaNlBtQ0ktWndia1A3X1hsaUFNIiwicHJvZHVjdGlkIjoiIiwiY2F0YWxvZ2lkIjoiNDc5NTIxODY5OTQ3MzM0NzA1MiIsImhlYWRsaW5lT2ZmZXJEb2NpZCI6IjYxNzkyNDU3Mjk3Mzc4NDMwMTciLCJpbWFnZURvY2lkIjoiMzE2MDc2MDIwMTc1MTcwNzU5NCIsInJkcyI6IlBDXzEyOTcyNjExMDg4ODI3MDMwMjQ1fFBST0RfUENfMTI5NzI2MTEwODg4MjcwMzAyNDUiLCJxdWVyeSI6IiUyMkVjby1mcmllbmRseSt2YWN1dW0taW5zdWxhdGVkK3dhdGVyK2JvdHRsZStmb3IrZW52aXJvbm1lbnRhbGx5K2NvbnNjaW91cytjb25zdW1lcnMrLStrZWVwcytkcmlua3MrY29sZCtmb3IrNDgraG91cnMrYW5kK2hvdCtmb3IrMjQraG91cnMlMjIiLCJncGNpZCI6IjEyOTcyNjExMDg4ODI3MDMwMjQ1IiwibWlkIjoiIiwicHZ0IjoiaGciLCJ1dWxlIjpudWxsfQ%3D%3D', 'source': \"DICK'S Sporting Goods\", 'source_icon': 'https://serpapi.com/searches/67c4920d1e450b0d6d994273/images/d83986a9f02c73e832beb3fabcf31663471413ddd6cf94b3541c21fa09d9e9d7.png', 'price': '$29.99', 'extracted_price': 29.99, 'rating': 4.7, 'reviews': 17000, 'extensions': ['Nearby, 2 mi'], 'thumbnail': 'https://serpapi.com/searches/67c4920d1e450b0d6d994273/images/d83986a9f02c73e832beb3fabcf3166335315dac8acde98c76f865dce799dd2a.webp', 'thumbnails': ['https://encrypted-tbn2.gstatic.com/shopping?q=tbn:ANd9GcQv1-hUEpFKCKuIZbsmA3w1LF72INerhh1Upfyu1lxnOQ4JVzmmUVrhl22mZpM89CrWeKfpZP6ik9krI8rCaFsLHo-4bt5pNx8UjpltZTF6'], 'delivery': 'Get it today ($10)'}, {'position': 3, 'title': 'EcoVessel Insulated Water Bottle with Strainer - 20 oz Stainless Steel Thermos by EcoVessel, Slate Gray', 'immersive_product_page_token': 'eyJlaSI6IkQ1TEVaNlBtQ0ktWndia1A3X1hsaUFNIiwicHJvZHVjdGlkIjoiMTEwMzA2NDQxNzE1MDY5Nzg2MTMiLCJjYXRhbG9naWQiOiIiLCJoZWFkbGluZU9mZmVyRG9jaWQiOiIxMTAzMDY0NDE3MTUwNjk3ODYxMyIsImltYWdlRG9jaWQiOiIxMzkzNjcwMTMyNTgxNDE5MzgxNyIsInJkcyI6IlBDXzg5NDQwMTAyMTQ4NjMwNDkwMDB8UFJPRF9QQ184OTQ0MDEwMjE0ODYzMDQ5MDAwIiwicXVlcnkiOiIlMjJFY28tZnJpZW5kbHkrdmFjdXVtLWluc3VsYXRlZCt3YXRlcitib3R0bGUrZm9yK2Vudmlyb25tZW50YWxseStjb25zY2lvdXMrY29uc3VtZXJzKy0ra2VlcHMrZHJpbmtzK2NvbGQrZm9yKzQ4K2hvdXJzK2FuZCtob3QrZm9yKzI0K2hvdXJzJTIyIiwiZ3BjaWQiOiIiLCJtaWQiOiIiLCJwdnQiOiJoZyIsInV1bGUiOm51bGx9', 'serpapi_immersive_product_api': 'https://serpapi.com/search.json?engine=google_immersive_product&page_token=eyJlaSI6IkQ1TEVaNlBtQ0ktWndia1A3X1hsaUFNIiwicHJvZHVjdGlkIjoiMTEwMzA2NDQxNzE1MDY5Nzg2MTMiLCJjYXRhbG9naWQiOiIiLCJoZWFkbGluZU9mZmVyRG9jaWQiOiIxMTAzMDY0NDE3MTUwNjk3ODYxMyIsImltYWdlRG9jaWQiOiIxMzkzNjcwMTMyNTgxNDE5MzgxNyIsInJkcyI6IlBDXzg5NDQwMTAyMTQ4NjMwNDkwMDB8UFJPRF9QQ184OTQ0MDEwMjE0ODYzMDQ5MDAwIiwicXVlcnkiOiIlMjJFY28tZnJpZW5kbHkrdmFjdXVtLWluc3VsYXRlZCt3YXRlcitib3R0bGUrZm9yK2Vudmlyb25tZW50YWxseStjb25zY2lvdXMrY29uc3VtZXJzKy0ra2VlcHMrZHJpbmtzK2NvbGQrZm9yKzQ4K2hvdXJzK2FuZCtob3QrZm9yKzI0K2hvdXJzJTIyIiwiZ3BjaWQiOiIiLCJtaWQiOiIiLCJwdnQiOiJoZyIsInV1bGUiOm51bGx9', 'product_link': 'https://www.google.com/shopping/product/1?gl=us&prds=pid:11030644171506978613', 'product_id': '11030644171506978613', 'serpapi_product_api': 'https://serpapi.com/search.json?engine=google_product&gl=us&google_domain=google.com&hl=en&product_id=11030644171506978613', 'source': 'EcoVessel', 'source_icon': 'https://serpapi.com/searches/67c4920d1e450b0d6d994273/images/d83986a9f02c73e832beb3fabcf31663029c71ab14758e64726b3bda5e71660a.png', 'price': '$24.99', 'extracted_price': 24.99, 'old_price': '$32', 'extracted_old_price': 32, 'rating': 4.8, 'reviews': 521, 'badge': 'Small business', 'thumbnail': 'https://serpapi.com/searches/67c4920d1e450b0d6d994273/images/d83986a9f02c73e832beb3fabcf3166326a8a951c3bfb4cb57d9755783340742.webp', 'thumbnails': ['https://encrypted-tbn1.gstatic.com/shopping?q=tbn:ANd9GcTCO6ciNRPO3bPHjbdXvImXKoI4lTV02Vln0bW_WRFSsXmTzusAmuD4_d0chjuWO84AT_58ecmXdrtyt513B_pfWr388kAV_CWgKV33hx4mVse3T466rysSvA'], 'tag': '21% OFF', 'extensions': ['21% OFF']}]\n",
      "\n",
      " Top Competitors:\n",
      " - Bambaw Insulated Stainless Steel Bottle 750 ml\n",
      "- FreeSip Water Bottle Owala Stainless Steel\n",
      "- EcoVessel Insulated Water Bottle with Strainer - 20 oz Stainless Steel Thermos by EcoVessel, Slate Gray\n"
     ]
    }
   ],
   "source": [
    "import os\n",
    "import openai\n",
    "import requests\n",
    "from dotenv import load_dotenv\n",
    "\n",
    "# Load API keys from environment variables\n",
    "SERPAPI_KEY = os.getenv(\"SERPAPI_API_KEY\")  # SerpAPI Key for Google Shopping Search\n",
    "load_dotenv()\n",
    "openai_client = openai.OpenAI(api_key=os.getenv(\"OPENAI_API_KEY\"))  # Corrected API usage\n",
    "\n",
    "\n",
    "def refine_search_query(product_name, product_desc, target_market):\n",
    "    \"\"\"\n",
    "    Uses OpenAI to refine a search query based on the product details.\n",
    "\n",
    "    Parameters:\n",
    "    - product_name (str): The product's name.\n",
    "    - product_desc (str): The product's description.\n",
    "    - target_market (str): The product's intended audience.\n",
    "\n",
    "    Returns:\n",
    "    - str: A refined search query optimized for Google Shopping.\n",
    "    \"\"\"\n",
    "\n",
    "    prompt = f\"\"\"\n",
    "    Refine this product search query for Google Shopping:\n",
    "    Product Name: {product_name}\n",
    "    Description: {product_desc}\n",
    "    Target Market: {target_market}\n",
    "\n",
    "    Optimized Search Query:\n",
    "    \"\"\"\n",
    "\n",
    "    response = openai_client.completions.create( \n",
    "        model=\"gpt-3.5-turbo-instruct\",\n",
    "        prompt=prompt,\n",
    "        max_tokens=50,\n",
    "        temperature=0  # Ensures predictable responses\n",
    "    )\n",
    "\n",
    "    return response.choices[0].text.strip()  \n",
    "\n",
    "def search_google_shopping(query):\n",
    "    \"\"\"\n",
    "    Uses SerpAPI to search Google Shopping for products related to the refined query.\n",
    "\n",
    "    Parameters:\n",
    "    - query (str): The refined search query.\n",
    "\n",
    "    Returns:\n",
    "    - list: A list of product search results.\n",
    "    \"\"\"\n",
    "\n",
    "    url = \"https://serpapi.com/search.json\"  # SerpAPI endpoint for Google Shopping\n",
    "    params = {\n",
    "        \"engine\": \"google_shopping\",  # Specifies Google Shopping as the search engine\n",
    "        \"api_key\": SERPAPI_KEY,  # API key from environment variables\n",
    "        \"q\": query,  # The refined query from OpenAI\n",
    "        \"num\": 5  # Limits the number of results to 5\n",
    "    }\n",
    "\n",
    "    response = requests.get(url, params=params)\n",
    "    results = response.json()\n",
    "\n",
    "    return results.get(\"shopping_results\", [])  # Extract and return product search results\n",
    "\n",
    "def summarize_results(results):\n",
    "    \"\"\"\n",
    "    Uses OpenAI to summarize the top 3 competitors from Google Shopping results.\n",
    "\n",
    "    Parameters:\n",
    "    - results (list): The list of shopping search results.\n",
    "\n",
    "    Returns:\n",
    "    - str: A bullet-point summary of the top 3 product titles.\n",
    "    \"\"\"\n",
    "\n",
    "    top_results = results[:3]  # Limit to top 3 results\n",
    "\n",
    "    # Extract only the product titles\n",
    "    product_titles = [f\"- {item['title']}\" for item in top_results]\n",
    "\n",
    "    prompt = f\"\"\"\n",
    "    Summarize these Google Shopping search results by listing the title of the top three products in bullet points:\n",
    "\n",
    "    {product_titles}\n",
    "\n",
    "    Keep it concise.\n",
    "    \"\"\"\n",
    "\n",
    "    response = openai_client.completions.create( \n",
    "        model=\"gpt-3.5-turbo-instruct\",\n",
    "        prompt=prompt,\n",
    "        max_tokens=100,\n",
    "        temperature=0\n",
    "    )\n",
    "\n",
    "    return response.choices[0].text.strip()\n",
    "\n",
    "\n"
   ]
  },
  {
   "cell_type": "markdown",
   "metadata": {},
   "source": [
    "Serp API:\n",
    "| Parameter          | Description                                      |\n",
    "|--------------------|--------------------------------------------------|\n",
    "| `\"engine\": \"google_shopping\"` | Specifies Google Shopping as the search engine. |\n",
    "| `\"api_key\": SERPAPI_KEY`  | Uses the API key stored in environment variables. |\n",
    "| `\"q\": query`       | Passes the refined query for product search.    |\n",
    "| `\"num\": 5`        | Limits search results to 5 products.            |\n"
   ]
  },
  {
   "cell_type": "markdown",
   "metadata": {},
   "source": [
    "#### Example:"
   ]
  },
  {
   "cell_type": "code",
   "execution_count": null,
   "metadata": {},
   "outputs": [],
   "source": [
    "# Example Usage\n",
    "product_name = \"EcoPure Hydration Bottle\"\n",
    "product_desc = \"A sustainable, vacuum-insulated water bottle that keeps drinks cold for 48 hours and hot for 24 hours.\"\n",
    "target_market = \"Environmentally conscious consumers\"\n",
    "\n",
    "# Step 1: Generate refined search query\n",
    "refined_query = refine_search_query(product_name, product_desc, target_market)\n",
    "print(\"\\n🔍 Refined Search Query:\", refined_query)\n",
    "\n",
    "# Step 2: Search Google Shopping\n",
    "competitor_results = search_google_shopping(refined_query)\n",
    "print(\"\\n🔎 Raw Competitor Results (Top 3):\", competitor_results[:3])\n",
    "\n",
    "# Step 3: Summarize and display competitors\n",
    "summary = summarize_results(competitor_results)\n",
    "print(\"\\n Top Competitors:\\n\", summary)"
   ]
  }
 ],
 "metadata": {
  "kernelspec": {
   "display_name": "Python 3",
   "language": "python",
   "name": "python3"
  },
  "language_info": {
   "codemirror_mode": {
    "name": "ipython",
    "version": 3
   },
   "file_extension": ".py",
   "mimetype": "text/x-python",
   "name": "python",
   "nbconvert_exporter": "python",
   "pygments_lexer": "ipython3",
   "version": "3.12.7"
  }
 },
 "nbformat": 4,
 "nbformat_minor": 2
}

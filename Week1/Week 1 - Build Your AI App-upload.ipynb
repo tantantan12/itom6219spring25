{
  "cells": [
    {
      "cell_type": "markdown",
      "metadata": {
        "id": "_9W2LZbjjQuX"
      },
      "source": [
        "## Week 1 - Build Your First AI App"
      ]
    },
    {
      "cell_type": "markdown",
      "metadata": {
        "id": "cGF0wDGHjQuY"
      },
      "source": [
        "### Example 1 - Completion"
      ]
    },
    {
      "cell_type": "code",
      "execution_count": 1,
      "metadata": {
        "id": "9wTxFWv8jQuZ",
        "outputId": "a0b51528-3e54-4716-fe4f-b684102c3297",
        "colab": {
          "base_uri": "https://localhost:8080/"
        }
      },
      "outputs": [
        {
          "output_type": "stream",
          "name": "stdout",
          "text": [
            "umbrella with me when I go\n"
          ]
        }
      ],
      "source": [
        "from openai import OpenAI\n",
        "from google.colab import userdata\n",
        "\n",
        "client = OpenAI(api_key=userdata.get(\"OPENAI_API_KEY\"))\n",
        "\n",
        "response=client.completions.create(\n",
        "  model=\"gpt-3.5-turbo-instruct\",\n",
        "  prompt=\"It is raining today, and I need to bring my \",\n",
        "  max_tokens=7,\n",
        "  temperature=0\n",
        ")\n",
        "\n",
        "print(response.choices[0].text.strip())  # Extracts and prints the generated text\n"
      ]
    },
    {
      "cell_type": "markdown",
      "metadata": {
        "id": "Yr6b9PfHjQua"
      },
      "source": [
        "### Example 2 - Chat"
      ]
    },
    {
      "cell_type": "code",
      "execution_count": 2,
      "metadata": {
        "id": "_3X8WuEjjQua",
        "outputId": "3a94cdd2-d95b-400b-d3b3-c3191afabe9c",
        "colab": {
          "base_uri": "https://localhost:8080/"
        }
      },
      "outputs": [
        {
          "output_type": "stream",
          "name": "stdout",
          "text": [
            "ChatCompletionMessage(content='Jane who?', refusal=None, role='assistant', audio=None, function_call=None, tool_calls=None, annotations=[])\n"
          ]
        }
      ],
      "source": [
        "from openai import OpenAI\n",
        "client = OpenAI(api_key=userdata.get(\"OPENAI_API_KEY\"))\n",
        "\n",
        "completion = client.chat.completions.create(\n",
        "  model=\"gpt-4o\",\n",
        "  messages=[\n",
        "    {\"role\": \"developer\", \"content\": \"You are a helpful assistant.\"},\n",
        "    {\"role\": \"user\", \"content\": \"Knock, knock!\"},\n",
        "    {\"role\": \"developer\", \"content\": \"I am Jane.\"},\n",
        "  ]\n",
        ")\n",
        "\n",
        "print(completion.choices[0].message)\n"
      ]
    },
    {
      "cell_type": "markdown",
      "metadata": {
        "id": "f3Y4YkMljQua"
      },
      "source": [
        "### Function 1 - Generate Promotional Copy"
      ]
    },
    {
      "cell_type": "code",
      "execution_count": 5,
      "metadata": {
        "id": "mGmQOd4TjQub"
      },
      "outputs": [],
      "source": [
        "import os\n",
        "import openai\n",
        "\n",
        "openai_client = openai.OpenAI(api_key=userdata.get(\"OPENAI_API_KEY\"))  # Corrected API usage\n",
        "\n",
        "\n",
        "\n",
        "def generate_promo_copy(product_name, product_desc, target_market):\n",
        "    \"\"\"\n",
        "    Generates advertising copy using OpenAI GPT API.\n",
        "\n",
        "    Parameters:\n",
        "    - product_name (str): The name of the product.\n",
        "    - product_desc (str): Description of the product.\n",
        "    - target_market (str): The target audience for the product.\n",
        "\n",
        "    Returns:\n",
        "    - str: AI-generated marketing copy.\n",
        "    \"\"\"\n",
        "\n",
        "    # OpenAI API request with structured prompt\n",
        "    prompt = f\"\"\"\n",
        "    Use the product name, description, and target market to create compelling advertising copy.\n",
        "\n",
        "    Product Name: {product_name}\n",
        "    Product Description: {product_desc}\n",
        "    Target Market: {target_market}\n",
        "\n",
        "    Advertising Copy:\n",
        "    \"\"\"\n",
        "\n",
        "    response = openai_client.completions.create(  # Updated OpenAI API call\n",
        "        model=\"gpt-3.5-turbo-instruct\",\n",
        "        prompt=prompt,\n",
        "        max_tokens=100,\n",
        "        temperature=0.7,\n",
        "        frequency_penalty=0.3,\n",
        "        presence_penalty=0\n",
        "    )\n",
        "\n",
        "    return response.choices[0].text.strip()  # Corrected response extraction"
      ]
    },
    {
      "cell_type": "markdown",
      "metadata": {
        "id": "c12kDcnmjQub"
      },
      "source": [
        "#### Example"
      ]
    },
    {
      "cell_type": "code",
      "execution_count": 6,
      "metadata": {
        "id": "CNv4zFL-jQub",
        "outputId": "677565d8-5637-43c4-a3a6-a8c5c9c91c9a",
        "colab": {
          "base_uri": "https://localhost:8080/"
        }
      },
      "outputs": [
        {
          "output_type": "stream",
          "name": "stdout",
          "text": [
            "Generated Promotional Copy:\n",
            " \"Join the movement towards a more sustainable future with the EcoPure Hydration Bottle. Our vacuum-insulated water bottle keeps your drinks cold for 48 hours and hot for 24 hours, making it perfect for any adventure. Made with environmentally friendly materials, this bottle not only keeps you hydrated but also helps reduce plastic waste. Whether you're hiking, commuting, or just need a refreshing drink on the go, the EcoPure Hydration Bottle has got you covered. Join the eco-friendly revolution and\n"
          ]
        }
      ],
      "source": [
        "product_name = \"EcoPure Hydration Bottle\"\n",
        "product_desc = \"A sustainable, vacuum-insulated water bottle that keeps drinks cold for 48 hours and hot for 24 hours.\"\n",
        "target_market = \"Environmentally conscious consumers\"\n",
        "\n",
        "promo_copy = generate_promo_copy(product_name, product_desc, target_market)\n",
        "print(\"Generated Promotional Copy:\\n\", promo_copy)"
      ]
    },
    {
      "cell_type": "markdown",
      "metadata": {
        "id": "qPimhC1MjQub"
      },
      "source": [
        "Parameters of the openai API\n",
        "| Parameter                     | Description                                              |\n",
        "|--------------------------------|----------------------------------------------------------|\n",
        "| `model=\"gpt-3.5-turbo-instruct\"` | Uses OpenAI’s instruction-following model.              |\n",
        "| `prompt=prompt`               | Passes the user-provided product details to guide the AI. |\n",
        "| `max_tokens=100`              | Limits the response length to 100 tokens.                |\n",
        "| `temperature=0.7`             | Increases variability and creativity.                    |\n",
        "| `frequency_penalty=0.3`       | Reduces repetitive outputs.                              |\n",
        "| `presence_penalty=0`          | Ensures responses remain on-topic.                       |\n"
      ]
    },
    {
      "cell_type": "markdown",
      "metadata": {
        "id": "Wjr8X5FmjQub"
      },
      "source": [
        "### Function 2 - Sequential Process for Finding Competitors"
      ]
    },
    {
      "cell_type": "code",
      "execution_count": 7,
      "metadata": {
        "id": "44eu_lUxjQuc"
      },
      "outputs": [],
      "source": [
        "import os\n",
        "import openai\n",
        "import requests\n",
        "\n",
        "\n",
        "# Load API keys from environment variables\n",
        "SERPAPI_KEY = userdata.get(\"SERPAPI_API_KEY\")  # SerpAPI Key for Google Shopping Search\n",
        "\n",
        "openai_client = openai.OpenAI(api_key=userdata.get(\"OPENAI_API_KEY\"))  # Corrected API usage\n",
        "\n",
        "\n",
        "def refine_search_query(product_name, product_desc, target_market):\n",
        "    \"\"\"\n",
        "    Uses OpenAI to refine a search query based on the product details.\n",
        "\n",
        "    Parameters:\n",
        "    - product_name (str): The product's name.\n",
        "    - product_desc (str): The product's description.\n",
        "    - target_market (str): The product's intended audience.\n",
        "\n",
        "    Returns:\n",
        "    - str: A refined search query optimized for Google Shopping.\n",
        "    \"\"\"\n",
        "\n",
        "    prompt = f\"\"\"\n",
        "    Refine this product search query for Google Shopping:\n",
        "    Product Name: {product_name}\n",
        "    Description: {product_desc}\n",
        "    Target Market: {target_market}\n",
        "\n",
        "    Optimized Search Query:\n",
        "    \"\"\"\n",
        "\n",
        "    response = openai_client.completions.create(\n",
        "        model=\"gpt-3.5-turbo-instruct\",\n",
        "        prompt=prompt,\n",
        "        max_tokens=50,\n",
        "        temperature=0  # Ensures predictable responses\n",
        "    )\n",
        "\n",
        "    return response.choices[0].text.strip()\n",
        "\n",
        "def search_google_shopping(query):\n",
        "    \"\"\"\n",
        "    Uses SerpAPI to search Google Shopping for products related to the refined query.\n",
        "\n",
        "    Parameters:\n",
        "    - query (str): The refined search query.\n",
        "\n",
        "    Returns:\n",
        "    - list: A list of product search results.\n",
        "    \"\"\"\n",
        "\n",
        "    url = \"https://serpapi.com/search.json\"  # SerpAPI endpoint for Google Shopping\n",
        "    params = {\n",
        "        \"engine\": \"google_shopping\",  # Specifies Google Shopping as the search engine\n",
        "        \"api_key\": userdata.get('SERPAPI_API_KEY'),  # API key from environment variables\n",
        "        \"q\": query,  # The refined query from OpenAI\n",
        "        \"num\": 5  # Limits the number of results to 5\n",
        "    }\n",
        "\n",
        "    response = requests.get(url, params=params)\n",
        "    results = response.json()\n",
        "\n",
        "    return results.get(\"shopping_results\", [])  # Extract and return product search results\n",
        "\n",
        "def summarize_results(results):\n",
        "    \"\"\"\n",
        "    Uses OpenAI to summarize the top 3 competitors from Google Shopping results.\n",
        "\n",
        "    Parameters:\n",
        "    - results (list): The list of shopping search results.\n",
        "\n",
        "    Returns:\n",
        "    - str: A bullet-point summary of the top 3 product titles.\n",
        "    \"\"\"\n",
        "\n",
        "    top_results = results[:3]  # Limit to top 3 results\n",
        "\n",
        "    # Extract only the product titles\n",
        "    product_titles = [f\"- {item['title']}\" for item in top_results]\n",
        "\n",
        "    prompt = f\"\"\"\n",
        "    Summarize these Google Shopping search results by listing the title of the top three products in bullet points:\n",
        "\n",
        "    {product_titles}\n",
        "\n",
        "    Keep it concise.\n",
        "    \"\"\"\n",
        "\n",
        "    response = openai_client.completions.create(\n",
        "        model=\"gpt-3.5-turbo-instruct\",\n",
        "        prompt=prompt,\n",
        "        max_tokens=100,\n",
        "        temperature=0\n",
        "    )\n",
        "\n",
        "    return response.choices[0].text.strip()\n",
        "\n",
        "\n"
      ]
    },
    {
      "cell_type": "markdown",
      "metadata": {
        "id": "YykzBIeCjQuc"
      },
      "source": [
        "Serp API:\n",
        "| Parameter          | Description                                      |\n",
        "|--------------------|--------------------------------------------------|\n",
        "| `\"engine\": \"google_shopping\"` | Specifies Google Shopping as the search engine. |\n",
        "| `\"api_key\": SERPAPI_KEY`  | Uses the API key stored in environment variables. |\n",
        "| `\"q\": query`       | Passes the refined query for product search.    |\n",
        "| `\"num\": 5`        | Limits search results to 5 products.            |\n"
      ]
    },
    {
      "cell_type": "markdown",
      "metadata": {
        "id": "BFlXG815jQuc"
      },
      "source": [
        "#### Example:"
      ]
    },
    {
      "cell_type": "code",
      "execution_count": 8,
      "metadata": {
        "id": "m9LltEvbjQuc",
        "outputId": "ec5c966f-419d-413b-f6ba-12983c5994b5",
        "colab": {
          "base_uri": "https://localhost:8080/"
        }
      },
      "outputs": [
        {
          "output_type": "stream",
          "name": "stdout",
          "text": [
            "\n",
            "🔍 Refined Search Query: \"Eco-friendly vacuum-insulated water bottle for environmentally conscious consumers - keeps drinks cold for 48 hours and hot for 24 hours\"\n",
            "\n",
            "🔎 Raw Competitor Results (Top 3): [{'position': 1, 'title': 'Bambaw Insulated Stainless Steel Bottle', 'product_link': 'https://www.google.com/shopping/product/11301523684523459377?gl=us', 'product_id': '11301523684523459377', 'serpapi_product_api': 'https://serpapi.com/search.json?engine=google_product&gl=us&google_domain=google.com&hl=en&product_id=11301523684523459377', 'immersive_product_page_token': 'eyJlaSI6Ii1SZlRaX21xTXIybGtQSVAwTnYzOEFzIiwicHJvZHVjdGlkIjoiIiwiY2F0YWxvZ2lkIjoiMTEzMDE1MjM2ODQ1MjM0NTkzNzciLCJoZWFkbGluZU9mZmVyRG9jaWQiOiI0MTcyMzA5NzQ3NTUwNTgwMzM5IiwiaW1hZ2VEb2NpZCI6IjQyODg5NDE4NTAwODI1NjQ3MTgiLCJyZHMiOiJQQ18xNzc4NjU3MDcyMzc1ODI5MzIzM3xQUk9EX1BDXzE3Nzg2NTcwNzIzNzU4MjkzMjMzIiwicXVlcnkiOiIlMjJFY28tZnJpZW5kbHkrdmFjdXVtLWluc3VsYXRlZCt3YXRlcitib3R0bGUrZm9yK2Vudmlyb25tZW50YWxseStjb25zY2lvdXMrY29uc3VtZXJzKy0ra2VlcHMrZHJpbmtzK2NvbGQrZm9yKzQ4K2hvdXJzK2FuZCtob3QrZm9yKzI0K2hvdXJzJTIyIiwiZ3BjaWQiOiIxMzkzNDAwMTg5OTQ3MDI0ODg2OCIsIm1pZCI6IjU3NjQ2MjUxMTM1ODI3NjE2NiIsInB2dCI6ImhnIiwidXVsZSI6bnVsbH0=', 'serpapi_immersive_product_api': 'https://serpapi.com/search.json?engine=google_immersive_product&page_token=eyJlaSI6Ii1SZlRaX21xTXIybGtQSVAwTnYzOEFzIiwicHJvZHVjdGlkIjoiIiwiY2F0YWxvZ2lkIjoiMTEzMDE1MjM2ODQ1MjM0NTkzNzciLCJoZWFkbGluZU9mZmVyRG9jaWQiOiI0MTcyMzA5NzQ3NTUwNTgwMzM5IiwiaW1hZ2VEb2NpZCI6IjQyODg5NDE4NTAwODI1NjQ3MTgiLCJyZHMiOiJQQ18xNzc4NjU3MDcyMzc1ODI5MzIzM3xQUk9EX1BDXzE3Nzg2NTcwNzIzNzU4MjkzMjMzIiwicXVlcnkiOiIlMjJFY28tZnJpZW5kbHkrdmFjdXVtLWluc3VsYXRlZCt3YXRlcitib3R0bGUrZm9yK2Vudmlyb25tZW50YWxseStjb25zY2lvdXMrY29uc3VtZXJzKy0ra2VlcHMrZHJpbmtzK2NvbGQrZm9yKzQ4K2hvdXJzK2FuZCtob3QrZm9yKzI0K2hvdXJzJTIyIiwiZ3BjaWQiOiIxMzkzNDAwMTg5OTQ3MDI0ODg2OCIsIm1pZCI6IjU3NjQ2MjUxMTM1ODI3NjE2NiIsInB2dCI6ImhnIiwidXVsZSI6bnVsbH0%3D', 'source': 'Amazon.com - Seller', 'source_icon': 'https://serpapi.com/searches/67d317f9d87a4dd7a50322de/images/d83986a9f02c73e832beb3fabcf31663f5c624472001630055ffb7623f7122d2.png', 'price': '$22.95', 'extracted_price': 22.95, 'rating': 4.6, 'reviews': 147, 'snippet': 'Well made (24 user reviews)', 'thumbnail': 'https://serpapi.com/searches/67d317f9d87a4dd7a50322de/images/d83986a9f02c73e832beb3fabcf316631a0dcca177d6430e8399741b1e34f468.webp', 'thumbnails': ['https://encrypted-tbn2.gstatic.com/shopping?q=tbn:ANd9GcT53DGMkEBBE-X6yydjYVLGDTtmqZo7hEMdnBzpSdeYFk4pqQ9XzaEVI2yBvziNI69oMjUmb-mhV-PZrBAIEVc5q9N728piG7pBXV3oboqB4qq-6xYeD_NY']}, {'position': 2, 'title': 'Owala FreeSip Water Bottle 40oz Shy Marshmallow', 'product_link': 'https://www.google.com/shopping/product/18087288829194997920?gl=us', 'product_id': '18087288829194997920', 'serpapi_product_api': 'https://serpapi.com/search.json?engine=google_product&gl=us&google_domain=google.com&hl=en&product_id=18087288829194997920', 'immersive_product_page_token': 'eyJlaSI6Ii1SZlRaX21xTXIybGtQSVAwTnYzOEFzIiwicHJvZHVjdGlkIjoiIiwiY2F0YWxvZ2lkIjoiMTgwODcyODg4MjkxOTQ5OTc5MjAiLCJoZWFkbGluZU9mZmVyRG9jaWQiOiIxMTc3NDgzNjcxODk4MTg1OTExMiIsImltYWdlRG9jaWQiOiI3MzE0MjYzODEzMDgwNzQ5NDMzIiwicmRzIjoiUENfNjk1NDk4MzU4ODQ2NTA5MTcxMHxQUk9EX1BDXzY5NTQ5ODM1ODg0NjUwOTE3MTAiLCJxdWVyeSI6IiUyMkVjby1mcmllbmRseSt2YWN1dW0taW5zdWxhdGVkK3dhdGVyK2JvdHRsZStmb3IrZW52aXJvbm1lbnRhbGx5K2NvbnNjaW91cytjb25zdW1lcnMrLStrZWVwcytkcmlua3MrY29sZCtmb3IrNDgraG91cnMrYW5kK2hvdCtmb3IrMjQraG91cnMlMjIiLCJncGNpZCI6IjY5NTQ5ODM1ODg0NjUwOTE3MTAiLCJtaWQiOiIiLCJwdnQiOiJoZyIsInV1bGUiOm51bGx9', 'serpapi_immersive_product_api': 'https://serpapi.com/search.json?engine=google_immersive_product&page_token=eyJlaSI6Ii1SZlRaX21xTXIybGtQSVAwTnYzOEFzIiwicHJvZHVjdGlkIjoiIiwiY2F0YWxvZ2lkIjoiMTgwODcyODg4MjkxOTQ5OTc5MjAiLCJoZWFkbGluZU9mZmVyRG9jaWQiOiIxMTc3NDgzNjcxODk4MTg1OTExMiIsImltYWdlRG9jaWQiOiI3MzE0MjYzODEzMDgwNzQ5NDMzIiwicmRzIjoiUENfNjk1NDk4MzU4ODQ2NTA5MTcxMHxQUk9EX1BDXzY5NTQ5ODM1ODg0NjUwOTE3MTAiLCJxdWVyeSI6IiUyMkVjby1mcmllbmRseSt2YWN1dW0taW5zdWxhdGVkK3dhdGVyK2JvdHRsZStmb3IrZW52aXJvbm1lbnRhbGx5K2NvbnNjaW91cytjb25zdW1lcnMrLStrZWVwcytkcmlua3MrY29sZCtmb3IrNDgraG91cnMrYW5kK2hvdCtmb3IrMjQraG91cnMlMjIiLCJncGNpZCI6IjY5NTQ5ODM1ODg0NjUwOTE3MTAiLCJtaWQiOiIiLCJwdnQiOiJoZyIsInV1bGUiOm51bGx9', 'source': 'Owala', 'source_icon': 'https://serpapi.com/searches/67d317f9d87a4dd7a50322de/images/d83986a9f02c73e832beb3fabcf31663471413ddd6cf94b3541c21fa09d9e9d7.png', 'price': '$39.99', 'extracted_price': 39.99, 'rating': 4.7, 'reviews': 18000, 'snippet': 'Good temperature regulation (5,441 user reviews)', 'thumbnail': 'https://serpapi.com/searches/67d317f9d87a4dd7a50322de/images/d83986a9f02c73e832beb3fabcf3166335315dac8acde98c76f865dce799dd2a.webp', 'thumbnails': ['https://encrypted-tbn1.gstatic.com/shopping?q=tbn:ANd9GcTs-BGADIHvXima31HEXSHQHUv2oy1yaZ6tBGhP9bl6GbAWTMeNCVD3i-VGiNcFpIvC1JQlT_7NMeoFtzRVJDcIXOdKuJffd1e4mHh0BxDJXWQMSYlbo1_0']}, {'position': 3, 'title': 'Owala FreeSip Stainless Steel Water Bottle', 'product_link': 'https://www.google.com/shopping/product/4795218699473347052?gl=us', 'product_id': '4795218699473347052', 'serpapi_product_api': 'https://serpapi.com/search.json?engine=google_product&gl=us&google_domain=google.com&hl=en&product_id=4795218699473347052', 'immersive_product_page_token': 'eyJlaSI6Ii1SZlRaX21xTXIybGtQSVAwTnYzOEFzIiwicHJvZHVjdGlkIjoiIiwiY2F0YWxvZ2lkIjoiNDc5NTIxODY5OTQ3MzM0NzA1MiIsImhlYWRsaW5lT2ZmZXJEb2NpZCI6IjYxNzkyNDU3Mjk3Mzc4NDMwMTciLCJpbWFnZURvY2lkIjoiMzE2MDc2MDIwMTc1MTcwNzU5NCIsInJkcyI6IlBDXzEyOTcyNjExMDg4ODI3MDMwMjQ1fFBST0RfUENfMTI5NzI2MTEwODg4MjcwMzAyNDUiLCJxdWVyeSI6IiUyMkVjby1mcmllbmRseSt2YWN1dW0taW5zdWxhdGVkK3dhdGVyK2JvdHRsZStmb3IrZW52aXJvbm1lbnRhbGx5K2NvbnNjaW91cytjb25zdW1lcnMrLStrZWVwcytkcmlua3MrY29sZCtmb3IrNDgraG91cnMrYW5kK2hvdCtmb3IrMjQraG91cnMlMjIiLCJncGNpZCI6IjEyOTcyNjExMDg4ODI3MDMwMjQ1IiwibWlkIjoiIiwicHZ0IjoiaGciLCJ1dWxlIjpudWxsfQ==', 'serpapi_immersive_product_api': 'https://serpapi.com/search.json?engine=google_immersive_product&page_token=eyJlaSI6Ii1SZlRaX21xTXIybGtQSVAwTnYzOEFzIiwicHJvZHVjdGlkIjoiIiwiY2F0YWxvZ2lkIjoiNDc5NTIxODY5OTQ3MzM0NzA1MiIsImhlYWRsaW5lT2ZmZXJEb2NpZCI6IjYxNzkyNDU3Mjk3Mzc4NDMwMTciLCJpbWFnZURvY2lkIjoiMzE2MDc2MDIwMTc1MTcwNzU5NCIsInJkcyI6IlBDXzEyOTcyNjExMDg4ODI3MDMwMjQ1fFBST0RfUENfMTI5NzI2MTEwODg4MjcwMzAyNDUiLCJxdWVyeSI6IiUyMkVjby1mcmllbmRseSt2YWN1dW0taW5zdWxhdGVkK3dhdGVyK2JvdHRsZStmb3IrZW52aXJvbm1lbnRhbGx5K2NvbnNjaW91cytjb25zdW1lcnMrLStrZWVwcytkcmlua3MrY29sZCtmb3IrNDgraG91cnMrYW5kK2hvdCtmb3IrMjQraG91cnMlMjIiLCJncGNpZCI6IjEyOTcyNjExMDg4ODI3MDMwMjQ1IiwibWlkIjoiIiwicHZ0IjoiaGciLCJ1dWxlIjpudWxsfQ%3D%3D', 'source': \"DICK'S Sporting Goods\", 'source_icon': 'https://serpapi.com/searches/67d317f9d87a4dd7a50322de/images/d83986a9f02c73e832beb3fabcf31663029c71ab14758e64726b3bda5e71660a.png', 'price': '$29.99', 'extracted_price': 29.99, 'rating': 4.7, 'reviews': 17000, 'snippet': 'Good temperature regulation (4,571 user reviews)', 'extensions': ['Nearby, 24 mi'], 'thumbnail': 'https://serpapi.com/searches/67d317f9d87a4dd7a50322de/images/d83986a9f02c73e832beb3fabcf3166326a8a951c3bfb4cb57d9755783340742.webp', 'thumbnails': ['https://encrypted-tbn2.gstatic.com/shopping?q=tbn:ANd9GcQv1-hUEpFKCKuIZbsmA3w1LF72INerhh1Upfyu1lxnOQ4JVzmmUVrhl22mZpM89CrWeKfpZP6ik9krI8rCaFsLHo-4bt5pNx8UjpltZTF6']}]\n",
            "\n",
            " Top Competitors:\n",
            " - Bambaw Insulated Stainless Steel Bottle\n",
            "- Owala FreeSip Water Bottle 40oz Shy Marshmallow\n",
            "- Owala FreeSip Stainless Steel Water Bottle\n"
          ]
        }
      ],
      "source": [
        "# Example Usage\n",
        "product_name = \"EcoPure Hydration Bottle\"\n",
        "product_desc = \"A sustainable, vacuum-insulated water bottle that keeps drinks cold for 48 hours and hot for 24 hours.\"\n",
        "target_market = \"Environmentally conscious consumers\"\n",
        "\n",
        "# Step 1: Generate refined search query\n",
        "refined_query = refine_search_query(product_name, product_desc, target_market)\n",
        "print(\"\\n🔍 Refined Search Query:\", refined_query)\n",
        "\n",
        "# Step 2: Search Google Shopping\n",
        "competitor_results = search_google_shopping(refined_query)\n",
        "print(\"\\n🔎 Raw Competitor Results (Top 3):\", competitor_results[:3])\n",
        "\n",
        "# Step 3: Summarize and display competitors\n",
        "summary = summarize_results(competitor_results)\n",
        "print(\"\\n Top Competitors:\\n\", summary)"
      ]
    }
  ],
  "metadata": {
    "kernelspec": {
      "display_name": "Python 3",
      "language": "python",
      "name": "python3"
    },
    "language_info": {
      "codemirror_mode": {
        "name": "ipython",
        "version": 3
      },
      "file_extension": ".py",
      "mimetype": "text/x-python",
      "name": "python",
      "nbconvert_exporter": "python",
      "pygments_lexer": "ipython3",
      "version": "3.12.7"
    },
    "colab": {
      "provenance": []
    }
  },
  "nbformat": 4,
  "nbformat_minor": 0
}